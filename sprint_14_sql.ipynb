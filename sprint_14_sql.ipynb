{
 "cells": [
  {
   "cell_type": "markdown",
   "metadata": {},
   "source": [
    "# Proyecto SQL"
   ]
  },
  {
   "cell_type": "markdown",
   "metadata": {},
   "source": [
    "El coronavirus tomó al mundo por sorpresa, cambiando la rutina diaria de todos y todas. Lo atrajo la atención de las startups que se apresuraron a desarrollar nuevas aplicaciones para los amantes de los libros que estaban en casa buscando materiales de lectura sin tener que salir.\n",
    "\n",
    "Contamos con una base de datos de uno de los servicios que compiten en este mercado. Contiene datos sobre libros, editoriales, autores y calificaciones de clientes y reseñas de libros. Esta información se utilizará para generar una propuesta de valor para un nuevo producto."
   ]
  },
  {
   "cell_type": "markdown",
   "metadata": {},
   "source": [
    "### Objetivos"
   ]
  },
  {
   "cell_type": "markdown",
   "metadata": {},
   "source": [
    "#### Objetivo general\n",
    "Contar con información util para la generación de una propuesta de valor para un nuevo producto.\n",
    "\n",
    "#### Objetivos específicos\n",
    "Encontrar el número de libros publicados después del 1 de enero de 2000.\n",
    "Encontrar el número de reseñas de usuarios y la calificación promedio para cada libro.\n",
    "Identificar la editorial que ha publicado el mayor número de libros con más de 50 páginas.\n",
    "Identificar al autor que tiene la más alta calificación promedio del libro.\n",
    "Encontrar el número promedio de reseñas de texto entre los usuarios que calificaron más de 50 libros."
   ]
  },
  {
   "cell_type": "markdown",
   "metadata": {},
   "source": [
    "## Conectarse a la base de datos"
   ]
  },
  {
   "cell_type": "code",
   "execution_count": 2,
   "metadata": {},
   "outputs": [],
   "source": [
    "#librerias\n",
    "import pandas as pd\n",
    "from sqlalchemy import create_engine\n",
    "db_config = {\n",
    " 'user': 'practicum_student', # username\n",
    " 'pwd': 'QnmDH8Sc2TQLvy2G3Vvh7', # password\n",
    " 'host': 'yp-trainers-practicum.cluster-czs0gxyx2d8w.us-east-1.rds.amazonaws.com', \n",
    " 'port': 5432, # connection port\n",
    " 'db': 'data-analyst-final-project-db' # the name of the database\n",
    " }\n",
    "connection_string = 'postgresql://{}:{}@{}:{}/{}'.format(db_config['user'],\n",
    " \n",
    "db_config['pwd'],\n",
    " \n",
    "db_config['host'],\n",
    "db_config['port'],\n",
    " \n",
    "db_config['db'])\n",
    "\n",
    "engine = create_engine(connection_string, connect_args={'sslmode':'require'})"
   ]
  },
  {
   "cell_type": "markdown",
   "metadata": {},
   "source": [
    "### Visualización de datos"
   ]
  },
  {
   "cell_type": "code",
   "execution_count": 3,
   "metadata": {},
   "outputs": [
    {
     "data": {
      "text/html": [
       "<div>\n",
       "<style scoped>\n",
       "    .dataframe tbody tr th:only-of-type {\n",
       "        vertical-align: middle;\n",
       "    }\n",
       "\n",
       "    .dataframe tbody tr th {\n",
       "        vertical-align: top;\n",
       "    }\n",
       "\n",
       "    .dataframe thead th {\n",
       "        text-align: right;\n",
       "    }\n",
       "</style>\n",
       "<table border=\"1\" class=\"dataframe\">\n",
       "  <thead>\n",
       "    <tr style=\"text-align: right;\">\n",
       "      <th></th>\n",
       "      <th>book_id</th>\n",
       "      <th>author_id</th>\n",
       "      <th>title</th>\n",
       "      <th>num_pages</th>\n",
       "      <th>publication_date</th>\n",
       "      <th>publisher_id</th>\n",
       "    </tr>\n",
       "  </thead>\n",
       "  <tbody>\n",
       "    <tr>\n",
       "      <th>0</th>\n",
       "      <td>1</td>\n",
       "      <td>546</td>\n",
       "      <td>'Salem's Lot</td>\n",
       "      <td>594</td>\n",
       "      <td>2005-11-01</td>\n",
       "      <td>93</td>\n",
       "    </tr>\n",
       "    <tr>\n",
       "      <th>1</th>\n",
       "      <td>2</td>\n",
       "      <td>465</td>\n",
       "      <td>1 000 Places to See Before You Die</td>\n",
       "      <td>992</td>\n",
       "      <td>2003-05-22</td>\n",
       "      <td>336</td>\n",
       "    </tr>\n",
       "    <tr>\n",
       "      <th>2</th>\n",
       "      <td>3</td>\n",
       "      <td>407</td>\n",
       "      <td>13 Little Blue Envelopes (Little Blue Envelope...</td>\n",
       "      <td>322</td>\n",
       "      <td>2010-12-21</td>\n",
       "      <td>135</td>\n",
       "    </tr>\n",
       "    <tr>\n",
       "      <th>3</th>\n",
       "      <td>4</td>\n",
       "      <td>82</td>\n",
       "      <td>1491: New Revelations of the Americas Before C...</td>\n",
       "      <td>541</td>\n",
       "      <td>2006-10-10</td>\n",
       "      <td>309</td>\n",
       "    </tr>\n",
       "    <tr>\n",
       "      <th>4</th>\n",
       "      <td>5</td>\n",
       "      <td>125</td>\n",
       "      <td>1776</td>\n",
       "      <td>386</td>\n",
       "      <td>2006-07-04</td>\n",
       "      <td>268</td>\n",
       "    </tr>\n",
       "  </tbody>\n",
       "</table>\n",
       "</div>"
      ],
      "text/plain": [
       "   book_id  author_id                                              title  \\\n",
       "0        1        546                                       'Salem's Lot   \n",
       "1        2        465                 1 000 Places to See Before You Die   \n",
       "2        3        407  13 Little Blue Envelopes (Little Blue Envelope...   \n",
       "3        4         82  1491: New Revelations of the Americas Before C...   \n",
       "4        5        125                                               1776   \n",
       "\n",
       "   num_pages publication_date  publisher_id  \n",
       "0        594       2005-11-01            93  \n",
       "1        992       2003-05-22           336  \n",
       "2        322       2010-12-21           135  \n",
       "3        541       2006-10-10           309  \n",
       "4        386       2006-07-04           268  "
      ]
     },
     "execution_count": 3,
     "metadata": {},
     "output_type": "execute_result"
    }
   ],
   "source": [
    "query = \"SELECT * FROM books LIMIT 5\"\n",
    "pd.io.sql.read_sql(query, con = engine)"
   ]
  },
  {
   "cell_type": "code",
   "execution_count": 4,
   "metadata": {
    "scrolled": true
   },
   "outputs": [
    {
     "data": {
      "text/html": [
       "<div>\n",
       "<style scoped>\n",
       "    .dataframe tbody tr th:only-of-type {\n",
       "        vertical-align: middle;\n",
       "    }\n",
       "\n",
       "    .dataframe tbody tr th {\n",
       "        vertical-align: top;\n",
       "    }\n",
       "\n",
       "    .dataframe thead th {\n",
       "        text-align: right;\n",
       "    }\n",
       "</style>\n",
       "<table border=\"1\" class=\"dataframe\">\n",
       "  <thead>\n",
       "    <tr style=\"text-align: right;\">\n",
       "      <th></th>\n",
       "      <th>author_id</th>\n",
       "      <th>author</th>\n",
       "    </tr>\n",
       "  </thead>\n",
       "  <tbody>\n",
       "    <tr>\n",
       "      <th>0</th>\n",
       "      <td>1</td>\n",
       "      <td>A.S. Byatt</td>\n",
       "    </tr>\n",
       "    <tr>\n",
       "      <th>1</th>\n",
       "      <td>2</td>\n",
       "      <td>Aesop/Laura Harris/Laura Gibbs</td>\n",
       "    </tr>\n",
       "    <tr>\n",
       "      <th>2</th>\n",
       "      <td>3</td>\n",
       "      <td>Agatha Christie</td>\n",
       "    </tr>\n",
       "    <tr>\n",
       "      <th>3</th>\n",
       "      <td>4</td>\n",
       "      <td>Alan Brennert</td>\n",
       "    </tr>\n",
       "    <tr>\n",
       "      <th>4</th>\n",
       "      <td>5</td>\n",
       "      <td>Alan Moore/David   Lloyd</td>\n",
       "    </tr>\n",
       "  </tbody>\n",
       "</table>\n",
       "</div>"
      ],
      "text/plain": [
       "   author_id                          author\n",
       "0          1                      A.S. Byatt\n",
       "1          2  Aesop/Laura Harris/Laura Gibbs\n",
       "2          3                 Agatha Christie\n",
       "3          4                   Alan Brennert\n",
       "4          5        Alan Moore/David   Lloyd"
      ]
     },
     "execution_count": 4,
     "metadata": {},
     "output_type": "execute_result"
    }
   ],
   "source": [
    "query = \"SELECT * FROM authors LIMIT 5\"\n",
    "pd.io.sql.read_sql(query, con = engine)"
   ]
  },
  {
   "cell_type": "code",
   "execution_count": 5,
   "metadata": {
    "scrolled": true
   },
   "outputs": [
    {
     "data": {
      "text/html": [
       "<div>\n",
       "<style scoped>\n",
       "    .dataframe tbody tr th:only-of-type {\n",
       "        vertical-align: middle;\n",
       "    }\n",
       "\n",
       "    .dataframe tbody tr th {\n",
       "        vertical-align: top;\n",
       "    }\n",
       "\n",
       "    .dataframe thead th {\n",
       "        text-align: right;\n",
       "    }\n",
       "</style>\n",
       "<table border=\"1\" class=\"dataframe\">\n",
       "  <thead>\n",
       "    <tr style=\"text-align: right;\">\n",
       "      <th></th>\n",
       "      <th>publisher_id</th>\n",
       "      <th>publisher</th>\n",
       "    </tr>\n",
       "  </thead>\n",
       "  <tbody>\n",
       "    <tr>\n",
       "      <th>0</th>\n",
       "      <td>1</td>\n",
       "      <td>Ace</td>\n",
       "    </tr>\n",
       "    <tr>\n",
       "      <th>1</th>\n",
       "      <td>2</td>\n",
       "      <td>Ace Book</td>\n",
       "    </tr>\n",
       "    <tr>\n",
       "      <th>2</th>\n",
       "      <td>3</td>\n",
       "      <td>Ace Books</td>\n",
       "    </tr>\n",
       "    <tr>\n",
       "      <th>3</th>\n",
       "      <td>4</td>\n",
       "      <td>Ace Hardcover</td>\n",
       "    </tr>\n",
       "    <tr>\n",
       "      <th>4</th>\n",
       "      <td>5</td>\n",
       "      <td>Addison Wesley Publishing Company</td>\n",
       "    </tr>\n",
       "  </tbody>\n",
       "</table>\n",
       "</div>"
      ],
      "text/plain": [
       "   publisher_id                          publisher\n",
       "0             1                                Ace\n",
       "1             2                           Ace Book\n",
       "2             3                          Ace Books\n",
       "3             4                      Ace Hardcover\n",
       "4             5  Addison Wesley Publishing Company"
      ]
     },
     "execution_count": 5,
     "metadata": {},
     "output_type": "execute_result"
    }
   ],
   "source": [
    "query = \"SELECT * FROM publishers LIMIT 5\"\n",
    "pd.io.sql.read_sql(query, con = engine)"
   ]
  },
  {
   "cell_type": "code",
   "execution_count": 6,
   "metadata": {},
   "outputs": [
    {
     "data": {
      "text/html": [
       "<div>\n",
       "<style scoped>\n",
       "    .dataframe tbody tr th:only-of-type {\n",
       "        vertical-align: middle;\n",
       "    }\n",
       "\n",
       "    .dataframe tbody tr th {\n",
       "        vertical-align: top;\n",
       "    }\n",
       "\n",
       "    .dataframe thead th {\n",
       "        text-align: right;\n",
       "    }\n",
       "</style>\n",
       "<table border=\"1\" class=\"dataframe\">\n",
       "  <thead>\n",
       "    <tr style=\"text-align: right;\">\n",
       "      <th></th>\n",
       "      <th>rating_id</th>\n",
       "      <th>book_id</th>\n",
       "      <th>username</th>\n",
       "      <th>rating</th>\n",
       "    </tr>\n",
       "  </thead>\n",
       "  <tbody>\n",
       "    <tr>\n",
       "      <th>0</th>\n",
       "      <td>1</td>\n",
       "      <td>1</td>\n",
       "      <td>ryanfranco</td>\n",
       "      <td>4</td>\n",
       "    </tr>\n",
       "    <tr>\n",
       "      <th>1</th>\n",
       "      <td>2</td>\n",
       "      <td>1</td>\n",
       "      <td>grantpatricia</td>\n",
       "      <td>2</td>\n",
       "    </tr>\n",
       "    <tr>\n",
       "      <th>2</th>\n",
       "      <td>3</td>\n",
       "      <td>1</td>\n",
       "      <td>brandtandrea</td>\n",
       "      <td>5</td>\n",
       "    </tr>\n",
       "    <tr>\n",
       "      <th>3</th>\n",
       "      <td>4</td>\n",
       "      <td>2</td>\n",
       "      <td>lorichen</td>\n",
       "      <td>3</td>\n",
       "    </tr>\n",
       "    <tr>\n",
       "      <th>4</th>\n",
       "      <td>5</td>\n",
       "      <td>2</td>\n",
       "      <td>mariokeller</td>\n",
       "      <td>2</td>\n",
       "    </tr>\n",
       "  </tbody>\n",
       "</table>\n",
       "</div>"
      ],
      "text/plain": [
       "   rating_id  book_id       username  rating\n",
       "0          1        1     ryanfranco       4\n",
       "1          2        1  grantpatricia       2\n",
       "2          3        1   brandtandrea       5\n",
       "3          4        2       lorichen       3\n",
       "4          5        2    mariokeller       2"
      ]
     },
     "execution_count": 6,
     "metadata": {},
     "output_type": "execute_result"
    }
   ],
   "source": [
    "query = \"SELECT * FROM ratings LIMIT 5\"\n",
    "pd.io.sql.read_sql(query, con = engine)"
   ]
  },
  {
   "cell_type": "code",
   "execution_count": 7,
   "metadata": {},
   "outputs": [
    {
     "data": {
      "text/html": [
       "<div>\n",
       "<style scoped>\n",
       "    .dataframe tbody tr th:only-of-type {\n",
       "        vertical-align: middle;\n",
       "    }\n",
       "\n",
       "    .dataframe tbody tr th {\n",
       "        vertical-align: top;\n",
       "    }\n",
       "\n",
       "    .dataframe thead th {\n",
       "        text-align: right;\n",
       "    }\n",
       "</style>\n",
       "<table border=\"1\" class=\"dataframe\">\n",
       "  <thead>\n",
       "    <tr style=\"text-align: right;\">\n",
       "      <th></th>\n",
       "      <th>review_id</th>\n",
       "      <th>book_id</th>\n",
       "      <th>username</th>\n",
       "      <th>text</th>\n",
       "    </tr>\n",
       "  </thead>\n",
       "  <tbody>\n",
       "    <tr>\n",
       "      <th>0</th>\n",
       "      <td>1</td>\n",
       "      <td>1</td>\n",
       "      <td>brandtandrea</td>\n",
       "      <td>Mention society tell send professor analysis. ...</td>\n",
       "    </tr>\n",
       "    <tr>\n",
       "      <th>1</th>\n",
       "      <td>2</td>\n",
       "      <td>1</td>\n",
       "      <td>ryanfranco</td>\n",
       "      <td>Foot glass pretty audience hit themselves. Amo...</td>\n",
       "    </tr>\n",
       "    <tr>\n",
       "      <th>2</th>\n",
       "      <td>3</td>\n",
       "      <td>2</td>\n",
       "      <td>lorichen</td>\n",
       "      <td>Listen treat keep worry. Miss husband tax but ...</td>\n",
       "    </tr>\n",
       "    <tr>\n",
       "      <th>3</th>\n",
       "      <td>4</td>\n",
       "      <td>3</td>\n",
       "      <td>johnsonamanda</td>\n",
       "      <td>Finally month interesting blue could nature cu...</td>\n",
       "    </tr>\n",
       "    <tr>\n",
       "      <th>4</th>\n",
       "      <td>5</td>\n",
       "      <td>3</td>\n",
       "      <td>scotttamara</td>\n",
       "      <td>Nation purpose heavy give wait song will. List...</td>\n",
       "    </tr>\n",
       "  </tbody>\n",
       "</table>\n",
       "</div>"
      ],
      "text/plain": [
       "   review_id  book_id       username  \\\n",
       "0          1        1   brandtandrea   \n",
       "1          2        1     ryanfranco   \n",
       "2          3        2       lorichen   \n",
       "3          4        3  johnsonamanda   \n",
       "4          5        3    scotttamara   \n",
       "\n",
       "                                                text  \n",
       "0  Mention society tell send professor analysis. ...  \n",
       "1  Foot glass pretty audience hit themselves. Amo...  \n",
       "2  Listen treat keep worry. Miss husband tax but ...  \n",
       "3  Finally month interesting blue could nature cu...  \n",
       "4  Nation purpose heavy give wait song will. List...  "
      ]
     },
     "execution_count": 7,
     "metadata": {},
     "output_type": "execute_result"
    }
   ],
   "source": [
    "query = \"SELECT * FROM reviews LIMIT 5\"\n",
    "pd.io.sql.read_sql(query, con = engine)"
   ]
  },
  {
   "cell_type": "markdown",
   "metadata": {},
   "source": [
    "## Consultas SQL"
   ]
  },
  {
   "cell_type": "markdown",
   "metadata": {},
   "source": [
    "### Encuentra el número de libros publicados después del 1 de enero de 2000.\n"
   ]
  },
  {
   "cell_type": "code",
   "execution_count": 8,
   "metadata": {},
   "outputs": [
    {
     "data": {
      "text/html": [
       "<div>\n",
       "<style scoped>\n",
       "    .dataframe tbody tr th:only-of-type {\n",
       "        vertical-align: middle;\n",
       "    }\n",
       "\n",
       "    .dataframe tbody tr th {\n",
       "        vertical-align: top;\n",
       "    }\n",
       "\n",
       "    .dataframe thead th {\n",
       "        text-align: right;\n",
       "    }\n",
       "</style>\n",
       "<table border=\"1\" class=\"dataframe\">\n",
       "  <thead>\n",
       "    <tr style=\"text-align: right;\">\n",
       "      <th></th>\n",
       "      <th>num_books</th>\n",
       "    </tr>\n",
       "  </thead>\n",
       "  <tbody>\n",
       "    <tr>\n",
       "      <th>0</th>\n",
       "      <td>819</td>\n",
       "    </tr>\n",
       "  </tbody>\n",
       "</table>\n",
       "</div>"
      ],
      "text/plain": [
       "   num_books\n",
       "0        819"
      ]
     },
     "execution_count": 8,
     "metadata": {},
     "output_type": "execute_result"
    }
   ],
   "source": [
    "#definimos la consulta\n",
    "query = \"\"\"\n",
    "SELECT COUNT(*) AS num_books\n",
    "FROM books\n",
    "WHERE publication_date > '2000-01-01';\n",
    "\"\"\"\n",
    "\n",
    "#ejecutamos la consulta\n",
    "pd.read_sql(query, con=engine)\n"
   ]
  },
  {
   "cell_type": "markdown",
   "metadata": {},
   "source": [
    "### Encuentra el número de reseñas de usuarios y la calificación promedio para cada libro.\n"
   ]
  },
  {
   "cell_type": "code",
   "execution_count": 9,
   "metadata": {},
   "outputs": [
    {
     "data": {
      "text/html": [
       "<div>\n",
       "<style scoped>\n",
       "    .dataframe tbody tr th:only-of-type {\n",
       "        vertical-align: middle;\n",
       "    }\n",
       "\n",
       "    .dataframe tbody tr th {\n",
       "        vertical-align: top;\n",
       "    }\n",
       "\n",
       "    .dataframe thead th {\n",
       "        text-align: right;\n",
       "    }\n",
       "</style>\n",
       "<table border=\"1\" class=\"dataframe\">\n",
       "  <thead>\n",
       "    <tr style=\"text-align: right;\">\n",
       "      <th></th>\n",
       "      <th>book_id</th>\n",
       "      <th>title</th>\n",
       "      <th>num_reviews</th>\n",
       "      <th>avg_rating</th>\n",
       "    </tr>\n",
       "  </thead>\n",
       "  <tbody>\n",
       "    <tr>\n",
       "      <th>0</th>\n",
       "      <td>652</td>\n",
       "      <td>The Body in the Library (Miss Marple  #3)</td>\n",
       "      <td>4</td>\n",
       "      <td>4.500000</td>\n",
       "    </tr>\n",
       "    <tr>\n",
       "      <th>1</th>\n",
       "      <td>273</td>\n",
       "      <td>Galápagos</td>\n",
       "      <td>4</td>\n",
       "      <td>4.500000</td>\n",
       "    </tr>\n",
       "    <tr>\n",
       "      <th>2</th>\n",
       "      <td>51</td>\n",
       "      <td>A Tree Grows in Brooklyn</td>\n",
       "      <td>60</td>\n",
       "      <td>4.250000</td>\n",
       "    </tr>\n",
       "    <tr>\n",
       "      <th>3</th>\n",
       "      <td>951</td>\n",
       "      <td>Undaunted Courage: The Pioneering First Missio...</td>\n",
       "      <td>4</td>\n",
       "      <td>4.000000</td>\n",
       "    </tr>\n",
       "    <tr>\n",
       "      <th>4</th>\n",
       "      <td>839</td>\n",
       "      <td>The Prophet</td>\n",
       "      <td>28</td>\n",
       "      <td>4.285714</td>\n",
       "    </tr>\n",
       "    <tr>\n",
       "      <th>...</th>\n",
       "      <td>...</td>\n",
       "      <td>...</td>\n",
       "      <td>...</td>\n",
       "      <td>...</td>\n",
       "    </tr>\n",
       "    <tr>\n",
       "      <th>995</th>\n",
       "      <td>64</td>\n",
       "      <td>Alice in Wonderland</td>\n",
       "      <td>52</td>\n",
       "      <td>4.230769</td>\n",
       "    </tr>\n",
       "    <tr>\n",
       "      <th>996</th>\n",
       "      <td>55</td>\n",
       "      <td>A Woman of Substance (Emma Harte Saga #1)</td>\n",
       "      <td>4</td>\n",
       "      <td>5.000000</td>\n",
       "    </tr>\n",
       "    <tr>\n",
       "      <th>997</th>\n",
       "      <td>148</td>\n",
       "      <td>Christine</td>\n",
       "      <td>21</td>\n",
       "      <td>3.428571</td>\n",
       "    </tr>\n",
       "    <tr>\n",
       "      <th>998</th>\n",
       "      <td>790</td>\n",
       "      <td>The Magicians' Guild (Black Magician Trilogy  #1)</td>\n",
       "      <td>4</td>\n",
       "      <td>3.500000</td>\n",
       "    </tr>\n",
       "    <tr>\n",
       "      <th>999</th>\n",
       "      <td>828</td>\n",
       "      <td>The Plot Against America</td>\n",
       "      <td>4</td>\n",
       "      <td>3.000000</td>\n",
       "    </tr>\n",
       "  </tbody>\n",
       "</table>\n",
       "<p>1000 rows × 4 columns</p>\n",
       "</div>"
      ],
      "text/plain": [
       "     book_id                                              title  num_reviews  \\\n",
       "0        652          The Body in the Library (Miss Marple  #3)            4   \n",
       "1        273                                          Galápagos            4   \n",
       "2         51                           A Tree Grows in Brooklyn           60   \n",
       "3        951  Undaunted Courage: The Pioneering First Missio...            4   \n",
       "4        839                                        The Prophet           28   \n",
       "..       ...                                                ...          ...   \n",
       "995       64                                Alice in Wonderland           52   \n",
       "996       55          A Woman of Substance (Emma Harte Saga #1)            4   \n",
       "997      148                                          Christine           21   \n",
       "998      790  The Magicians' Guild (Black Magician Trilogy  #1)            4   \n",
       "999      828                           The Plot Against America            4   \n",
       "\n",
       "     avg_rating  \n",
       "0      4.500000  \n",
       "1      4.500000  \n",
       "2      4.250000  \n",
       "3      4.000000  \n",
       "4      4.285714  \n",
       "..          ...  \n",
       "995    4.230769  \n",
       "996    5.000000  \n",
       "997    3.428571  \n",
       "998    3.500000  \n",
       "999    3.000000  \n",
       "\n",
       "[1000 rows x 4 columns]"
      ]
     },
     "execution_count": 9,
     "metadata": {},
     "output_type": "execute_result"
    }
   ],
   "source": [
    "#definimos la consulta\n",
    "query = \"\"\"\n",
    "SELECT\n",
    "    books.book_id,\n",
    "    books.title,\n",
    "    COUNT(reviews.review_id) AS num_reviews,\n",
    "    AVG(ratings.rating) AS avg_rating\n",
    "FROM\n",
    "    books\n",
    "LEFT JOIN reviews ON books.book_id = reviews.book_id\n",
    "LEFT JOIN ratings ON books.book_id = ratings.book_id\n",
    "GROUP BY\n",
    "    books.book_id, books.title;\n",
    "\"\"\"\n",
    "#ejecución de consulta\n",
    "pd.read_sql(query, con=engine)"
   ]
  },
  {
   "cell_type": "markdown",
   "metadata": {},
   "source": [
    "### Identifica la editorial que ha publicado el mayor número de libros con más de 50 páginas.\n",
    "(esto te ayudará a excluir folletos y publicaciones similares de tu análisis)\n"
   ]
  },
  {
   "cell_type": "code",
   "execution_count": 10,
   "metadata": {},
   "outputs": [
    {
     "data": {
      "text/html": [
       "<div>\n",
       "<style scoped>\n",
       "    .dataframe tbody tr th:only-of-type {\n",
       "        vertical-align: middle;\n",
       "    }\n",
       "\n",
       "    .dataframe tbody tr th {\n",
       "        vertical-align: top;\n",
       "    }\n",
       "\n",
       "    .dataframe thead th {\n",
       "        text-align: right;\n",
       "    }\n",
       "</style>\n",
       "<table border=\"1\" class=\"dataframe\">\n",
       "  <thead>\n",
       "    <tr style=\"text-align: right;\">\n",
       "      <th></th>\n",
       "      <th>publisher</th>\n",
       "      <th>num_books</th>\n",
       "    </tr>\n",
       "  </thead>\n",
       "  <tbody>\n",
       "    <tr>\n",
       "      <th>0</th>\n",
       "      <td>Penguin Books</td>\n",
       "      <td>42</td>\n",
       "    </tr>\n",
       "  </tbody>\n",
       "</table>\n",
       "</div>"
      ],
      "text/plain": [
       "       publisher  num_books\n",
       "0  Penguin Books         42"
      ]
     },
     "execution_count": 10,
     "metadata": {},
     "output_type": "execute_result"
    }
   ],
   "source": [
    "#definimos la consulta\n",
    "query = \"\"\"\n",
    "SELECT \n",
    "    publishers.publisher,\n",
    "    COUNT(books.book_id) AS num_books\n",
    "FROM \n",
    "    books\n",
    "JOIN publishers ON books.publisher_id = publishers.publisher_id\n",
    "WHERE \n",
    "    books.num_pages > 50\n",
    "GROUP BY \n",
    "    publishers.publisher\n",
    "ORDER BY \n",
    "    num_books DESC\n",
    "LIMIT 1;\n",
    "\"\"\"\n",
    "#ejecutamos la consulta\n",
    "pd.read_sql(query, con=engine)"
   ]
  },
  {
   "cell_type": "markdown",
   "metadata": {},
   "source": [
    "### Identifica al autor que tiene la más alta calificación promedio del libro: \n",
    "mira solo los libros con al menos 50 calificaciones.\n"
   ]
  },
  {
   "cell_type": "code",
   "execution_count": 11,
   "metadata": {},
   "outputs": [
    {
     "data": {
      "text/html": [
       "<div>\n",
       "<style scoped>\n",
       "    .dataframe tbody tr th:only-of-type {\n",
       "        vertical-align: middle;\n",
       "    }\n",
       "\n",
       "    .dataframe tbody tr th {\n",
       "        vertical-align: top;\n",
       "    }\n",
       "\n",
       "    .dataframe thead th {\n",
       "        text-align: right;\n",
       "    }\n",
       "</style>\n",
       "<table border=\"1\" class=\"dataframe\">\n",
       "  <thead>\n",
       "    <tr style=\"text-align: right;\">\n",
       "      <th></th>\n",
       "      <th>author</th>\n",
       "      <th>avg_rating</th>\n",
       "    </tr>\n",
       "  </thead>\n",
       "  <tbody>\n",
       "    <tr>\n",
       "      <th>0</th>\n",
       "      <td>J.K. Rowling/Mary GrandPré</td>\n",
       "      <td>4.288462</td>\n",
       "    </tr>\n",
       "  </tbody>\n",
       "</table>\n",
       "</div>"
      ],
      "text/plain": [
       "                       author  avg_rating\n",
       "0  J.K. Rowling/Mary GrandPré    4.288462"
      ]
     },
     "execution_count": 11,
     "metadata": {},
     "output_type": "execute_result"
    }
   ],
   "source": [
    "#definimos la consulta\n",
    "query = \"\"\"\n",
    "SELECT \n",
    "    authors.author,\n",
    "    AVG(ratings.rating) AS avg_rating\n",
    "FROM \n",
    "    books\n",
    "JOIN authors ON books.author_id = authors.author_id\n",
    "JOIN ratings ON books.book_id = ratings.book_id\n",
    "GROUP BY \n",
    "    authors.author\n",
    "HAVING \n",
    "    COUNT(ratings.rating) >= 50\n",
    "ORDER BY \n",
    "    avg_rating DESC\n",
    "LIMIT 1;\n",
    "\"\"\"\n",
    "#ejecutamos\n",
    "pd.read_sql(query, con=engine)"
   ]
  },
  {
   "cell_type": "markdown",
   "metadata": {},
   "source": [
    "### Encuentra el número promedio de reseñas de texto entre los usuarios que calificaron más de 50 libros."
   ]
  },
  {
   "cell_type": "code",
   "execution_count": 12,
   "metadata": {},
   "outputs": [
    {
     "data": {
      "text/html": [
       "<div>\n",
       "<style scoped>\n",
       "    .dataframe tbody tr th:only-of-type {\n",
       "        vertical-align: middle;\n",
       "    }\n",
       "\n",
       "    .dataframe tbody tr th {\n",
       "        vertical-align: top;\n",
       "    }\n",
       "\n",
       "    .dataframe thead th {\n",
       "        text-align: right;\n",
       "    }\n",
       "</style>\n",
       "<table border=\"1\" class=\"dataframe\">\n",
       "  <thead>\n",
       "    <tr style=\"text-align: right;\">\n",
       "      <th></th>\n",
       "      <th>avg_reviews_per_user</th>\n",
       "    </tr>\n",
       "  </thead>\n",
       "  <tbody>\n",
       "    <tr>\n",
       "      <th>0</th>\n",
       "      <td>24.333333</td>\n",
       "    </tr>\n",
       "  </tbody>\n",
       "</table>\n",
       "</div>"
      ],
      "text/plain": [
       "   avg_reviews_per_user\n",
       "0             24.333333"
      ]
     },
     "execution_count": 12,
     "metadata": {},
     "output_type": "execute_result"
    }
   ],
   "source": [
    "#definición de consulta\n",
    "query = \"\"\"\n",
    "WITH users_with_more_than_50_ratings AS (\n",
    "    SELECT \n",
    "        username,\n",
    "        COUNT(*) AS num_ratings\n",
    "    FROM \n",
    "        ratings\n",
    "    GROUP BY \n",
    "        username\n",
    "    HAVING \n",
    "        COUNT(*) > 50\n",
    ")\n",
    "SELECT \n",
    "    AVG(num_reviews) AS avg_reviews_per_user\n",
    "FROM (\n",
    "    SELECT \n",
    "        reviews.username,\n",
    "        COUNT(reviews.review_id) AS num_reviews\n",
    "    FROM \n",
    "        reviews\n",
    "    JOIN users_with_more_than_50_ratings \n",
    "    ON reviews.username = users_with_more_than_50_ratings.username\n",
    "    GROUP BY \n",
    "        reviews.username\n",
    ") AS user_reviews;\"\"\"\n",
    "\n",
    "#ejecutar consulta\n",
    "pd.read_sql(query, con=engine)"
   ]
  },
  {
   "cell_type": "markdown",
   "metadata": {},
   "source": [
    "## Conclusiones"
   ]
  },
  {
   "cell_type": "markdown",
   "metadata": {},
   "source": [
    "#### Número de libros\n",
    "Es una consulta útil para identificar los libros en el mercado a partir de la fecha de interés, lo que refleja el crecimiento del catálogo más actual para los lectores. Entre mayor es el número, mayor es la industria activa.\n",
    "\n",
    "#### Número de reseñas\n",
    "Con esta consulta podemos ver la aceptación de los libros en el mercado, los libros con mejores reseñas nos sirven para darlos en recomendaicón o promociones ya que tienen buena aceptación en el público y pueden ser los más buscados por ser más populares.\n",
    "\n",
    "#### Editorial con más publicaciones\n",
    "Esta consulta nos permite saber qué editorial tiene más publicaciones (específicamente para libros más extensos) lo que es un mercado amplio ya que suele ser material de lectura más robusto y tiene un nucho del mercado más comprometido al ser obras más extensas. Con estas editoriales pueden llegarse a acuerdos particulares.\n",
    "\n",
    "#### Autor con la calificación más alta\n",
    "Nos permite saber qué autores son los más populares y mejor aceptados entre los lectores, haciéndonos apostar con mayor seguridad por obras que tendrán mayor alcance entre sus seguidores. \n",
    "\n",
    "#### Número promedio de reseñas\n",
    "Nos ayuda a identificar a los usuarios más activos en dar retroalimentación a las publicaciones, entre más reseñas de un usuario, más comprometido está con la comunidad de lectores. El número de reseñas nos permite saber la participación de los usuarios.\n"
   ]
  },
  {
   "cell_type": "markdown",
   "metadata": {},
   "source": [
    "### Conclusión final\n",
    "Las consultas en SQL a nuestra base de datos son utiles para obtener información sobre distintas categorías de interés, tal como los autores más leidos, las temporadas de mayor demanda y las editoriales más populares. Esta información nos da un panorama de las tendencias actuales y las preferencias de los uaurios, por lo que puede usarse para tomar decisiones de marketing y promociones. Por ejemplo, adquirir más libros de la editorial Penguin books ya que son una editorial con mucha diversidad o hacer promoción de los libros de la autora Diana Gabaldoin ya que sus libros tienen muchas reseñas lo que nos dice es conocida.\n"
   ]
  }
 ],
 "metadata": {
  "ExecuteTimeLog": [
   {
    "duration": 8,
    "start_time": "2024-10-01T13:04:38.501Z"
   },
   {
    "duration": 4,
    "start_time": "2024-10-01T13:05:09.108Z"
   },
   {
    "duration": 4,
    "start_time": "2024-10-01T13:05:23.793Z"
   },
   {
    "duration": 401,
    "start_time": "2024-10-01T13:05:38.563Z"
   },
   {
    "duration": 3,
    "start_time": "2024-10-01T13:06:19.140Z"
   },
   {
    "duration": 186,
    "start_time": "2024-10-01T13:06:33.264Z"
   },
   {
    "duration": 40,
    "start_time": "2024-10-01T13:09:57.092Z"
   },
   {
    "duration": 11,
    "start_time": "2024-10-01T13:14:03.303Z"
   },
   {
    "duration": 9,
    "start_time": "2024-10-01T13:15:53.093Z"
   },
   {
    "duration": 9,
    "start_time": "2024-10-01T13:16:17.681Z"
   },
   {
    "duration": 10,
    "start_time": "2024-10-01T13:16:50.856Z"
   },
   {
    "duration": 9,
    "start_time": "2024-10-01T13:17:02.706Z"
   },
   {
    "duration": 373,
    "start_time": "2024-10-01T13:58:07.515Z"
   },
   {
    "duration": 59,
    "start_time": "2024-10-01T13:58:07.889Z"
   },
   {
    "duration": 8,
    "start_time": "2024-10-01T13:58:07.951Z"
   },
   {
    "duration": 9,
    "start_time": "2024-10-01T13:58:07.961Z"
   },
   {
    "duration": 9,
    "start_time": "2024-10-01T13:58:07.971Z"
   },
   {
    "duration": 10,
    "start_time": "2024-10-01T13:58:07.981Z"
   },
   {
    "duration": 5,
    "start_time": "2024-10-01T14:08:32.546Z"
   },
   {
    "duration": 4,
    "start_time": "2024-10-01T14:08:49.608Z"
   },
   {
    "duration": 33,
    "start_time": "2024-10-01T14:08:49.614Z"
   },
   {
    "duration": 9,
    "start_time": "2024-10-01T14:08:49.649Z"
   },
   {
    "duration": 8,
    "start_time": "2024-10-01T14:08:49.660Z"
   },
   {
    "duration": 10,
    "start_time": "2024-10-01T14:08:49.670Z"
   },
   {
    "duration": 10,
    "start_time": "2024-10-01T14:08:49.682Z"
   },
   {
    "duration": 3,
    "start_time": "2024-10-01T14:08:49.694Z"
   },
   {
    "duration": 0,
    "start_time": "2024-10-01T14:08:49.699Z"
   },
   {
    "duration": 0,
    "start_time": "2024-10-01T14:08:49.701Z"
   },
   {
    "duration": 0,
    "start_time": "2024-10-01T14:08:49.702Z"
   },
   {
    "duration": 0,
    "start_time": "2024-10-01T14:08:49.704Z"
   },
   {
    "duration": 5,
    "start_time": "2024-10-01T14:11:02.889Z"
   },
   {
    "duration": 32,
    "start_time": "2024-10-01T14:12:10.199Z"
   },
   {
    "duration": 14,
    "start_time": "2024-10-01T14:12:33.259Z"
   },
   {
    "duration": 4,
    "start_time": "2024-10-01T14:14:09.835Z"
   },
   {
    "duration": 27,
    "start_time": "2024-10-01T14:17:11.526Z"
   },
   {
    "duration": 10,
    "start_time": "2024-10-01T14:25:33.420Z"
   },
   {
    "duration": 15,
    "start_time": "2024-10-01T14:32:23.617Z"
   },
   {
    "duration": 12,
    "start_time": "2024-10-01T14:35:40.686Z"
   },
   {
    "duration": 165,
    "start_time": "2024-10-02T02:29:42.872Z"
   },
   {
    "duration": 477,
    "start_time": "2024-10-02T02:29:46.323Z"
   },
   {
    "duration": 41,
    "start_time": "2024-10-02T02:29:46.803Z"
   },
   {
    "duration": 9,
    "start_time": "2024-10-02T02:29:46.846Z"
   },
   {
    "duration": 8,
    "start_time": "2024-10-02T02:29:46.858Z"
   },
   {
    "duration": 9,
    "start_time": "2024-10-02T02:29:46.868Z"
   },
   {
    "duration": 11,
    "start_time": "2024-10-02T02:29:46.879Z"
   },
   {
    "duration": 9,
    "start_time": "2024-10-02T02:29:46.892Z"
   },
   {
    "duration": 53,
    "start_time": "2024-10-02T02:29:46.903Z"
   },
   {
    "duration": 10,
    "start_time": "2024-10-02T02:29:46.958Z"
   },
   {
    "duration": 14,
    "start_time": "2024-10-02T02:29:46.970Z"
   },
   {
    "duration": 11,
    "start_time": "2024-10-02T02:29:46.986Z"
   }
  ],
  "kernelspec": {
   "display_name": "Python 3 (ipykernel)",
   "language": "python",
   "name": "python3"
  },
  "language_info": {
   "codemirror_mode": {
    "name": "ipython",
    "version": 3
   },
   "file_extension": ".py",
   "mimetype": "text/x-python",
   "name": "python",
   "nbconvert_exporter": "python",
   "pygments_lexer": "ipython3",
   "version": "3.9.19"
  },
  "toc": {
   "base_numbering": 1,
   "nav_menu": {},
   "number_sections": true,
   "sideBar": true,
   "skip_h1_title": true,
   "title_cell": "Table of Contents",
   "title_sidebar": "Contents",
   "toc_cell": false,
   "toc_position": {},
   "toc_section_display": true,
   "toc_window_display": false
  }
 },
 "nbformat": 4,
 "nbformat_minor": 2
}
